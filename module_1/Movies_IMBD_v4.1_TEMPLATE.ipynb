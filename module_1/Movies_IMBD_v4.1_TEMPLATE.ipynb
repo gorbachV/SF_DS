{
 "cells": [
  {
   "cell_type": "code",
   "execution_count": 1,
   "metadata": {
    "_cell_guid": "b1076dfc-b9ad-4769-8c92-a6c4dae69d19",
    "_uuid": "8f2839f25d086af736a60e9eeb907d3b93b6e0e5",
    "colab": {},
    "colab_type": "code",
    "id": "U2D2gTdJVp90"
   },
   "outputs": [],
   "source": [
    "import numpy as np\n",
    "import pandas as pd\n",
    "import seaborn as sns\n",
    "import matplotlib.pyplot as plt\n",
    "from collections import Counter"
   ]
  },
  {
   "cell_type": "code",
   "execution_count": 2,
   "metadata": {
    "_cell_guid": "79c7e3d0-c299-4dcb-8224-4455121ee9b0",
    "_uuid": "d629ff2d2480ee46fbb7e2d37f6b5fab8052498a",
    "colab": {},
    "colab_type": "code",
    "id": "oyGfxL3eVp9-",
    "scrolled": true
   },
   "outputs": [
    {
     "data": {
      "text/html": [
       "<div>\n",
       "<style scoped>\n",
       "    .dataframe tbody tr th:only-of-type {\n",
       "        vertical-align: middle;\n",
       "    }\n",
       "\n",
       "    .dataframe tbody tr th {\n",
       "        vertical-align: top;\n",
       "    }\n",
       "\n",
       "    .dataframe thead th {\n",
       "        text-align: right;\n",
       "    }\n",
       "</style>\n",
       "<table border=\"1\" class=\"dataframe\">\n",
       "  <thead>\n",
       "    <tr style=\"text-align: right;\">\n",
       "      <th></th>\n",
       "      <th>imdb_id</th>\n",
       "      <th>budget</th>\n",
       "      <th>revenue</th>\n",
       "      <th>original_title</th>\n",
       "      <th>cast</th>\n",
       "      <th>director</th>\n",
       "      <th>tagline</th>\n",
       "      <th>overview</th>\n",
       "      <th>runtime</th>\n",
       "      <th>genres</th>\n",
       "      <th>production_companies</th>\n",
       "      <th>release_date</th>\n",
       "      <th>vote_average</th>\n",
       "      <th>release_year</th>\n",
       "    </tr>\n",
       "  </thead>\n",
       "  <tbody>\n",
       "    <tr>\n",
       "      <th>119</th>\n",
       "      <td>tt2015381</td>\n",
       "      <td>170000000</td>\n",
       "      <td>773312399</td>\n",
       "      <td>Guardians of the Galaxy</td>\n",
       "      <td>Chris Pratt|Zoe Saldana|Dave Bautista|Vin Dies...</td>\n",
       "      <td>James Gunn</td>\n",
       "      <td>All heroes start somewhere.</td>\n",
       "      <td>Light years from Earth, 26 years after being a...</td>\n",
       "      <td>121</td>\n",
       "      <td>Action|Science Fiction|Adventure</td>\n",
       "      <td>Marvel Studios|Moving Picture Company (MPC)|Bu...</td>\n",
       "      <td>7/30/2014</td>\n",
       "      <td>7.9</td>\n",
       "      <td>2014</td>\n",
       "    </tr>\n",
       "    <tr>\n",
       "      <th>1570</th>\n",
       "      <td>tt0343660</td>\n",
       "      <td>75000000</td>\n",
       "      <td>196482882</td>\n",
       "      <td>50 First Dates</td>\n",
       "      <td>Adam Sandler|Drew Barrymore|Rob Schneider|Sean...</td>\n",
       "      <td>Peter Segal</td>\n",
       "      <td>Imagine having to win over the girl of your dr...</td>\n",
       "      <td>Henry is a player skilled at seducing women. B...</td>\n",
       "      <td>99</td>\n",
       "      <td>Comedy|Romance</td>\n",
       "      <td>Columbia Pictures Corporation|Happy Madison Pr...</td>\n",
       "      <td>2/13/2004</td>\n",
       "      <td>6.5</td>\n",
       "      <td>2004</td>\n",
       "    </tr>\n",
       "    <tr>\n",
       "      <th>264</th>\n",
       "      <td>tt0327597</td>\n",
       "      <td>60000000</td>\n",
       "      <td>124596398</td>\n",
       "      <td>Coraline</td>\n",
       "      <td>Dakota Fanning|Teri Hatcher|Jennifer Saunders|...</td>\n",
       "      <td>Henry Selick</td>\n",
       "      <td>Be careful what you wish for.</td>\n",
       "      <td>When Coraline moves to an old house, she feels...</td>\n",
       "      <td>100</td>\n",
       "      <td>Animation|Family</td>\n",
       "      <td>Focus Features|Laika Entertainment</td>\n",
       "      <td>2/5/2009</td>\n",
       "      <td>7.1</td>\n",
       "      <td>2009</td>\n",
       "    </tr>\n",
       "    <tr>\n",
       "      <th>464</th>\n",
       "      <td>tt1564585</td>\n",
       "      <td>10000000</td>\n",
       "      <td>66821036</td>\n",
       "      <td>Skyline</td>\n",
       "      <td>Eric Balfour|Scottie Thompson|David Zayas|Dona...</td>\n",
       "      <td>Colin Strause|Greg Strause</td>\n",
       "      <td>Don't look up</td>\n",
       "      <td>When strange lights descend on the city of Los...</td>\n",
       "      <td>100</td>\n",
       "      <td>Science Fiction</td>\n",
       "      <td>Rogue Pictures|Relativity Media|Hydraulx|Rat E...</td>\n",
       "      <td>11/11/2010</td>\n",
       "      <td>4.7</td>\n",
       "      <td>2010</td>\n",
       "    </tr>\n",
       "    <tr>\n",
       "      <th>1225</th>\n",
       "      <td>tt2312718</td>\n",
       "      <td>22000000</td>\n",
       "      <td>43058898</td>\n",
       "      <td>Homefront</td>\n",
       "      <td>Jason Statham|James Franco|Izabela Vidovic|Win...</td>\n",
       "      <td>Gary Fleder</td>\n",
       "      <td>How far would you go to protect your home?</td>\n",
       "      <td>Phil Broker is a former DEA agent who has gone...</td>\n",
       "      <td>100</td>\n",
       "      <td>Action|Thriller</td>\n",
       "      <td>Millennium Films|Open Road Films</td>\n",
       "      <td>11/27/2013</td>\n",
       "      <td>6.4</td>\n",
       "      <td>2013</td>\n",
       "    </tr>\n",
       "  </tbody>\n",
       "</table>\n",
       "</div>"
      ],
      "text/plain": [
       "        imdb_id     budget    revenue           original_title  \\\n",
       "119   tt2015381  170000000  773312399  Guardians of the Galaxy   \n",
       "1570  tt0343660   75000000  196482882           50 First Dates   \n",
       "264   tt0327597   60000000  124596398                 Coraline   \n",
       "464   tt1564585   10000000   66821036                  Skyline   \n",
       "1225  tt2312718   22000000   43058898                Homefront   \n",
       "\n",
       "                                                   cast  \\\n",
       "119   Chris Pratt|Zoe Saldana|Dave Bautista|Vin Dies...   \n",
       "1570  Adam Sandler|Drew Barrymore|Rob Schneider|Sean...   \n",
       "264   Dakota Fanning|Teri Hatcher|Jennifer Saunders|...   \n",
       "464   Eric Balfour|Scottie Thompson|David Zayas|Dona...   \n",
       "1225  Jason Statham|James Franco|Izabela Vidovic|Win...   \n",
       "\n",
       "                        director  \\\n",
       "119                   James Gunn   \n",
       "1570                 Peter Segal   \n",
       "264                 Henry Selick   \n",
       "464   Colin Strause|Greg Strause   \n",
       "1225                 Gary Fleder   \n",
       "\n",
       "                                                tagline  \\\n",
       "119                         All heroes start somewhere.   \n",
       "1570  Imagine having to win over the girl of your dr...   \n",
       "264                       Be careful what you wish for.   \n",
       "464                                       Don't look up   \n",
       "1225         How far would you go to protect your home?   \n",
       "\n",
       "                                               overview  runtime  \\\n",
       "119   Light years from Earth, 26 years after being a...      121   \n",
       "1570  Henry is a player skilled at seducing women. B...       99   \n",
       "264   When Coraline moves to an old house, she feels...      100   \n",
       "464   When strange lights descend on the city of Los...      100   \n",
       "1225  Phil Broker is a former DEA agent who has gone...      100   \n",
       "\n",
       "                                genres  \\\n",
       "119   Action|Science Fiction|Adventure   \n",
       "1570                    Comedy|Romance   \n",
       "264                   Animation|Family   \n",
       "464                    Science Fiction   \n",
       "1225                   Action|Thriller   \n",
       "\n",
       "                                   production_companies release_date  \\\n",
       "119   Marvel Studios|Moving Picture Company (MPC)|Bu...    7/30/2014   \n",
       "1570  Columbia Pictures Corporation|Happy Madison Pr...    2/13/2004   \n",
       "264                  Focus Features|Laika Entertainment     2/5/2009   \n",
       "464   Rogue Pictures|Relativity Media|Hydraulx|Rat E...   11/11/2010   \n",
       "1225                   Millennium Films|Open Road Films   11/27/2013   \n",
       "\n",
       "      vote_average  release_year  \n",
       "119            7.9          2014  \n",
       "1570           6.5          2004  \n",
       "264            7.1          2009  \n",
       "464            4.7          2010  \n",
       "1225           6.4          2013  "
      ]
     },
     "execution_count": 2,
     "metadata": {},
     "output_type": "execute_result"
    }
   ],
   "source": [
    "data = pd.read_csv('movie_bd_v5.csv')\n",
    "data.sample(5)"
   ]
  },
  {
   "cell_type": "code",
   "execution_count": 3,
   "metadata": {
    "colab": {},
    "colab_type": "code",
    "id": "CoYUnagMVp-C",
    "scrolled": false
   },
   "outputs": [
    {
     "data": {
      "text/html": [
       "<div>\n",
       "<style scoped>\n",
       "    .dataframe tbody tr th:only-of-type {\n",
       "        vertical-align: middle;\n",
       "    }\n",
       "\n",
       "    .dataframe tbody tr th {\n",
       "        vertical-align: top;\n",
       "    }\n",
       "\n",
       "    .dataframe thead th {\n",
       "        text-align: right;\n",
       "    }\n",
       "</style>\n",
       "<table border=\"1\" class=\"dataframe\">\n",
       "  <thead>\n",
       "    <tr style=\"text-align: right;\">\n",
       "      <th></th>\n",
       "      <th>budget</th>\n",
       "      <th>revenue</th>\n",
       "      <th>runtime</th>\n",
       "      <th>vote_average</th>\n",
       "      <th>release_year</th>\n",
       "    </tr>\n",
       "  </thead>\n",
       "  <tbody>\n",
       "    <tr>\n",
       "      <th>count</th>\n",
       "      <td>1.889000e+03</td>\n",
       "      <td>1.889000e+03</td>\n",
       "      <td>1889.000000</td>\n",
       "      <td>1889.000000</td>\n",
       "      <td>1889.000000</td>\n",
       "    </tr>\n",
       "    <tr>\n",
       "      <th>mean</th>\n",
       "      <td>5.431083e+07</td>\n",
       "      <td>1.553653e+08</td>\n",
       "      <td>109.658549</td>\n",
       "      <td>6.140762</td>\n",
       "      <td>2007.860773</td>\n",
       "    </tr>\n",
       "    <tr>\n",
       "      <th>std</th>\n",
       "      <td>4.858721e+07</td>\n",
       "      <td>2.146698e+08</td>\n",
       "      <td>18.017041</td>\n",
       "      <td>0.764763</td>\n",
       "      <td>4.468841</td>\n",
       "    </tr>\n",
       "    <tr>\n",
       "      <th>min</th>\n",
       "      <td>5.000000e+06</td>\n",
       "      <td>2.033165e+06</td>\n",
       "      <td>63.000000</td>\n",
       "      <td>3.300000</td>\n",
       "      <td>2000.000000</td>\n",
       "    </tr>\n",
       "    <tr>\n",
       "      <th>25%</th>\n",
       "      <td>2.000000e+07</td>\n",
       "      <td>3.456058e+07</td>\n",
       "      <td>97.000000</td>\n",
       "      <td>5.600000</td>\n",
       "      <td>2004.000000</td>\n",
       "    </tr>\n",
       "    <tr>\n",
       "      <th>50%</th>\n",
       "      <td>3.800000e+07</td>\n",
       "      <td>8.361541e+07</td>\n",
       "      <td>107.000000</td>\n",
       "      <td>6.100000</td>\n",
       "      <td>2008.000000</td>\n",
       "    </tr>\n",
       "    <tr>\n",
       "      <th>75%</th>\n",
       "      <td>7.200000e+07</td>\n",
       "      <td>1.782626e+08</td>\n",
       "      <td>120.000000</td>\n",
       "      <td>6.600000</td>\n",
       "      <td>2012.000000</td>\n",
       "    </tr>\n",
       "    <tr>\n",
       "      <th>max</th>\n",
       "      <td>3.800000e+08</td>\n",
       "      <td>2.781506e+09</td>\n",
       "      <td>214.000000</td>\n",
       "      <td>8.100000</td>\n",
       "      <td>2015.000000</td>\n",
       "    </tr>\n",
       "  </tbody>\n",
       "</table>\n",
       "</div>"
      ],
      "text/plain": [
       "             budget       revenue      runtime  vote_average  release_year\n",
       "count  1.889000e+03  1.889000e+03  1889.000000   1889.000000   1889.000000\n",
       "mean   5.431083e+07  1.553653e+08   109.658549      6.140762   2007.860773\n",
       "std    4.858721e+07  2.146698e+08    18.017041      0.764763      4.468841\n",
       "min    5.000000e+06  2.033165e+06    63.000000      3.300000   2000.000000\n",
       "25%    2.000000e+07  3.456058e+07    97.000000      5.600000   2004.000000\n",
       "50%    3.800000e+07  8.361541e+07   107.000000      6.100000   2008.000000\n",
       "75%    7.200000e+07  1.782626e+08   120.000000      6.600000   2012.000000\n",
       "max    3.800000e+08  2.781506e+09   214.000000      8.100000   2015.000000"
      ]
     },
     "execution_count": 3,
     "metadata": {},
     "output_type": "execute_result"
    }
   ],
   "source": [
    "data.describe()"
   ]
  },
  {
   "cell_type": "markdown",
   "metadata": {
    "colab_type": "text",
    "id": "DTIt7ezGVp-G"
   },
   "source": [
    "# Предобработка"
   ]
  },
  {
   "cell_type": "code",
   "execution_count": 4,
   "metadata": {
    "colab": {},
    "colab_type": "code",
    "id": "jNb40DwKVp-H"
   },
   "outputs": [],
   "source": [
    "answers = {} # создадим словарь для ответов\n",
    "\n",
    "# тут другие ваши предобработки колонок например:\n",
    "month_dict = {1: 'Январь', 2: 'Февраль', 3: 'Март',\n",
    "              4: 'Апрель', 5: 'Май', 6: 'Июнь', \n",
    "              7: 'Июль', 8: 'Август', 9: 'Сентябрь', \n",
    "              10: 'Октябрь', 11: 'Ноябрь', 12: 'Декабрь'}\n",
    "\n",
    "def get_season(month_num):\n",
    "     if 3 <= month_num <= 5:\n",
    "          return 'Spring'\n",
    "     elif 6 <= month_num <= 8:\n",
    "          return 'Summer'\n",
    "     elif 9 <= month_num <= 11:\n",
    "          return 'Autumn'\n",
    "     else:\n",
    "          return 'Winter'\n",
    "\n",
    "data['profit'] = data.revenue - data.budget\n",
    "data['month'] = data.release_date.apply(lambda s: int(s.split('/')[0]))\n",
    "data['season'] = data.month.apply(get_season)\n",
    "#the time given in the dataset is in string format.\n",
    "#So we need to change this in datetime format\n",
    "# ..."
   ]
  },
  {
   "cell_type": "markdown",
   "metadata": {
    "colab_type": "text",
    "id": "YxZaH-nPVp-L"
   },
   "source": [
    "# 1. У какого фильма из списка самый большой бюджет?"
   ]
  },
  {
   "cell_type": "markdown",
   "metadata": {
    "colab_type": "text",
    "id": "Nd-G5gX6Vp-M"
   },
   "source": [
    "Использовать варианты ответов в коде решения запрещено.    \n",
    "Вы думаете и в жизни у вас будут варианты ответов?)"
   ]
  },
  {
   "cell_type": "code",
   "execution_count": 5,
   "metadata": {
    "colab": {},
    "colab_type": "code",
    "id": "uVnXAY5RVp-O"
   },
   "outputs": [],
   "source": [
    "# в словарь вставляем номер вопроса и ваш ответ на него\n",
    "# Пример: \n",
    "answers['1'] = '2. Spider-Man 3 (tt0413300)'\n",
    "# запишите свой вариант ответа\n",
    "answers['1'] = '5. Pirates of the Caribbean: On Stranger Tides (tt1298650)'\n",
    "# если ответили верно, можете добавить комментарий со значком \"+\""
   ]
  },
  {
   "cell_type": "code",
   "execution_count": 6,
   "metadata": {
    "colab": {},
    "colab_type": "code",
    "id": "dZwb3m28Vp-S"
   },
   "outputs": [],
   "source": [
    "# тут пишем ваш код для решения данного вопроса:\n",
    "data_filtered = data[data.budget == data.budget.max()]\n",
    "movie_max_budget = data_filtered.original_title.values[0] + ' (' + data_filtered.imdb_id.values[0] + ')'"
   ]
  },
  {
   "cell_type": "markdown",
   "metadata": {
    "colab_type": "text",
    "id": "K7L3nbRXVp-X"
   },
   "source": [
    "ВАРИАНТ 2"
   ]
  },
  {
   "cell_type": "code",
   "execution_count": 7,
   "metadata": {
    "colab": {},
    "colab_type": "code",
    "id": "OGaoQI7rVp-X"
   },
   "outputs": [],
   "source": [
    "# можно добавлять разные варианты решения"
   ]
  },
  {
   "cell_type": "markdown",
   "metadata": {
    "colab_type": "text",
    "id": "FNRbbI3vVp-c"
   },
   "source": [
    "# 2. Какой из фильмов самый длительный (в минутах)?"
   ]
  },
  {
   "cell_type": "code",
   "execution_count": 8,
   "metadata": {
    "colab": {},
    "colab_type": "code",
    "id": "vHAoEXNTVp-d"
   },
   "outputs": [],
   "source": [
    "# думаю логику работы с этим словарем вы уже поняли, \n",
    "# по этому не буду больше его дублировать\n",
    "answers['2'] = '2. Gods and Generals (tt0279111)'"
   ]
  },
  {
   "cell_type": "code",
   "execution_count": 9,
   "metadata": {
    "colab": {},
    "colab_type": "code",
    "id": "ot-VX2XrVp-g"
   },
   "outputs": [],
   "source": [
    "data_filtered = data[data.runtime == data.runtime.max()]\n",
    "movie_max_runtime = data_filtered.original_title.values[0] + ' (' + data_filtered.imdb_id.values[0] + ')'"
   ]
  },
  {
   "cell_type": "markdown",
   "metadata": {
    "colab_type": "text",
    "id": "bapLlpW8Vp-k"
   },
   "source": [
    "# 3. Какой из фильмов самый короткий (в минутах)?\n",
    "\n",
    "\n",
    "\n"
   ]
  },
  {
   "cell_type": "code",
   "execution_count": 10,
   "metadata": {
    "colab": {},
    "colab_type": "code",
    "id": "YBxaSHuAVp-l"
   },
   "outputs": [],
   "source": [
    "data_filtered = data[data.runtime == data.runtime.min()]\n",
    "movie_min_runtime = data_filtered.original_title.values[0] + ' (' + data_filtered.imdb_id.values[0] + ')'\n",
    "answers['3'] = movie_min_runtime"
   ]
  },
  {
   "cell_type": "markdown",
   "metadata": {
    "colab_type": "text",
    "id": "TfQbxbfNVp-p"
   },
   "source": [
    "# 4. Какова средняя длительность фильмов?\n"
   ]
  },
  {
   "cell_type": "code",
   "execution_count": 11,
   "metadata": {
    "colab": {},
    "colab_type": "code",
    "id": "5K6dKZYVVp-q"
   },
   "outputs": [],
   "source": [
    "movie_mean_runtime = round(data.runtime.mean())\n",
    "answers['4'] = movie_mean_runtime"
   ]
  },
  {
   "cell_type": "markdown",
   "metadata": {
    "colab_type": "text",
    "id": "r5TvbnT_Vp-u"
   },
   "source": [
    "# 5. Каково медианное значение длительности фильмов? "
   ]
  },
  {
   "cell_type": "code",
   "execution_count": 12,
   "metadata": {
    "colab": {},
    "colab_type": "code",
    "id": "iBROplKnVp-v"
   },
   "outputs": [],
   "source": [
    "movie_median_runtime = round(data.runtime.median())\n",
    "answers['5'] = movie_median_runtime"
   ]
  },
  {
   "cell_type": "markdown",
   "metadata": {
    "colab_type": "text",
    "id": "39P-deDSVp-y"
   },
   "source": [
    "# 6. Какой самый прибыльный фильм?\n",
    "#### Внимание! Здесь и далее под «прибылью» или «убытками» понимается разность между сборами и бюджетом фильма. (прибыль = сборы - бюджет) в нашем датасете это будет (profit = revenue - budget) "
   ]
  },
  {
   "cell_type": "code",
   "execution_count": 13,
   "metadata": {
    "colab": {},
    "colab_type": "code",
    "id": "UYZh4T9WVp-y"
   },
   "outputs": [],
   "source": [
    "# лучше код получения столбца profit вынести в Предобработку что в начале\n",
    "data_filtered = data[data.profit == data.profit.max()]\n",
    "movie_max_profit = data_filtered.original_title.values[0] + ' (' + data_filtered.imdb_id.values[0] + ')'\n",
    "answers['6'] = movie_max_profit"
   ]
  },
  {
   "cell_type": "markdown",
   "metadata": {
    "colab_type": "text",
    "id": "M99JmIX4Vp-2"
   },
   "source": [
    "# 7. Какой фильм самый убыточный? "
   ]
  },
  {
   "cell_type": "code",
   "execution_count": 14,
   "metadata": {
    "colab": {},
    "colab_type": "code",
    "id": "w-D2m4XPVp-3"
   },
   "outputs": [],
   "source": [
    "data_filtered = data[data.profit == data.profit.min()]\n",
    "movie_min_profit = data_filtered.original_title.values[0] + ' (' + data_filtered.imdb_id.values[0] + ')'\n",
    "answers['7'] = movie_max_profit"
   ]
  },
  {
   "cell_type": "markdown",
   "metadata": {
    "colab_type": "text",
    "id": "wEOM5ERVVp-6"
   },
   "source": [
    "# 8. У скольких фильмов из датасета объем сборов оказался выше бюджета?"
   ]
  },
  {
   "cell_type": "code",
   "execution_count": 15,
   "metadata": {
    "colab": {},
    "colab_type": "code",
    "id": "y00_7HD6Vp-7"
   },
   "outputs": [],
   "source": [
    "answers['8'] = len(data[data.profit > 0].index)"
   ]
  },
  {
   "cell_type": "markdown",
   "metadata": {
    "colab_type": "text",
    "id": "xhpspA9KVp_A"
   },
   "source": [
    "# 9. Какой фильм оказался самым кассовым в 2008 году?"
   ]
  },
  {
   "cell_type": "code",
   "execution_count": 16,
   "metadata": {
    "colab": {},
    "colab_type": "code",
    "id": "MoUyQr9RVp_B"
   },
   "outputs": [],
   "source": [
    "data_filtered = data[data.release_year == 2008]\n",
    "data_filtered = data_filtered[data_filtered.profit == data_filtered.profit.max()]\n",
    "movie2008_max_profit = data_filtered.original_title.values[0] + ' (' + data_filtered.imdb_id.values[0] + ')'\n",
    "answers['9'] = movie2008_max_profit"
   ]
  },
  {
   "cell_type": "markdown",
   "metadata": {
    "colab_type": "text",
    "id": "Zi4hDKidVp_F"
   },
   "source": [
    "# 10. Самый убыточный фильм за период с 2012 по 2014 г. (включительно)?\n"
   ]
  },
  {
   "cell_type": "code",
   "execution_count": 17,
   "metadata": {
    "colab": {},
    "colab_type": "code",
    "id": "XqyRmufJVp_F"
   },
   "outputs": [],
   "source": [
    "data_filtered = data.query('2012 <= release_year <= 2014')\n",
    "data_filtered = data_filtered[data_filtered.profit == data_filtered.profit.min()]\n",
    "answers['10'] = data_filtered.original_title.values[0] + ' (' + data_filtered.imdb_id.values[0] + ')'"
   ]
  },
  {
   "cell_type": "markdown",
   "metadata": {
    "colab_type": "text",
    "id": "EA7Sa9dkVp_I"
   },
   "source": [
    "# 11. Какого жанра фильмов больше всего?"
   ]
  },
  {
   "cell_type": "code",
   "execution_count": 18,
   "metadata": {
    "colab": {},
    "colab_type": "code",
    "id": "zsJAwJ8QVp_J"
   },
   "outputs": [],
   "source": [
    "# эту задачу тоже можно решать разными подходами, попробуй реализовать разные варианты\n",
    "# если будешь добавлять функцию - выноси ее в предобработку что в начале\n",
    "genres = pd.Series(data.genres.str.split('|').sum())\n",
    "answers['11'] = genres.value_counts().index[0]"
   ]
  },
  {
   "cell_type": "markdown",
   "metadata": {
    "colab_type": "text",
    "id": "Ax6g2C8SVp_M"
   },
   "source": [
    "ВАРИАНТ 2"
   ]
  },
  {
   "cell_type": "code",
   "execution_count": null,
   "metadata": {
    "colab": {},
    "colab_type": "code",
    "id": "otO3SbrSVp_N"
   },
   "outputs": [],
   "source": []
  },
  {
   "cell_type": "markdown",
   "metadata": {
    "colab_type": "text",
    "id": "T9_bPWpkVp_Q"
   },
   "source": [
    "# 12. Фильмы какого жанра чаще всего становятся прибыльными? "
   ]
  },
  {
   "cell_type": "code",
   "execution_count": 19,
   "metadata": {
    "colab": {},
    "colab_type": "code",
    "id": "Tmt8MaK1Vp_R"
   },
   "outputs": [],
   "source": [
    "data_filtered = data[data.profit > 0]\n",
    "genres = pd.Series(data_filtered.genres.str.split('|').sum())\n",
    "answers['12'] = genres.value_counts().index[0]"
   ]
  },
  {
   "cell_type": "markdown",
   "metadata": {
    "colab_type": "text",
    "id": "0F23bgsDVp_U"
   },
   "source": [
    "# 13. У какого режиссера самые большие суммарные кассовые сборы?"
   ]
  },
  {
   "cell_type": "code",
   "execution_count": 20,
   "metadata": {
    "colab": {},
    "colab_type": "code",
    "id": "K6Z3J8ygVp_X"
   },
   "outputs": [],
   "source": [
    "df_tmp = data.copy()\n",
    "df_tmp['director'] = data.director.str.split('|')\n",
    "df_tmp = df_tmp.explode('director')\n",
    "data_gr = df_tmp.groupby(by='director')['revenue'].sum()\n",
    "director = data_gr.loc[data_gr == data_gr.max()].index[0]\n",
    "answers['13'] = data_gr.loc[data_gr == data_gr.max()].index[0]"
   ]
  },
  {
   "cell_type": "markdown",
   "metadata": {
    "colab_type": "text",
    "id": "PsYC9FgRVp_a"
   },
   "source": [
    "# 14. Какой режисер снял больше всего фильмов в стиле Action?"
   ]
  },
  {
   "cell_type": "code",
   "execution_count": 21,
   "metadata": {
    "colab": {},
    "colab_type": "code",
    "id": "wd2M-wHeVp_b"
   },
   "outputs": [],
   "source": [
    "df_tmp = data.copy()\n",
    "df_tmp['director'] = df_tmp.director.str.split('|')\n",
    "df_tmp['genres'] = df_tmp.genres.str.split('|')\n",
    "df_tmp = df_tmp.explode('director')\n",
    "df_tmp = df_tmp.explode('genres')\n",
    "data_filtered = df_tmp[df_tmp.genres == 'Action']\n",
    "data_gr = data_filtered.groupby(by='director')['imdb_id'].nunique()\n",
    "director = data_gr.loc[data_gr == data_gr.max()].index[0]\n",
    "answers['14'] = data_gr.loc[data_gr == data_gr.max()].index[0]"
   ]
  },
  {
   "cell_type": "markdown",
   "metadata": {
    "colab_type": "text",
    "id": "PQ0KciD7Vp_f"
   },
   "source": [
    "# 15. Фильмы с каким актером принесли самые высокие кассовые сборы в 2012 году? "
   ]
  },
  {
   "cell_type": "code",
   "execution_count": 22,
   "metadata": {
    "colab": {},
    "colab_type": "code",
    "id": "aga62oeKVp_g"
   },
   "outputs": [],
   "source": [
    "df_tmp = data.copy()\n",
    "df_tmp = df_tmp[df_tmp.release_year == 2012]\n",
    "df_tmp['cast'] = df_tmp.cast.str.split('|')\n",
    "df_tmp = df_tmp.explode('cast')\n",
    "data_gr = df_tmp.groupby(by='cast')['revenue'].sum()\n",
    "actor = data_gr.loc[data_gr == data_gr.max()].index[0]\n",
    "answers['15'] = actor"
   ]
  },
  {
   "cell_type": "markdown",
   "metadata": {
    "colab_type": "text",
    "id": "mWHyyL7QVp_j"
   },
   "source": [
    "# 16. Какой актер снялся в большем количестве высокобюджетных фильмов?"
   ]
  },
  {
   "cell_type": "code",
   "execution_count": 23,
   "metadata": {
    "colab": {},
    "colab_type": "code",
    "id": "qQtmHKTFVp_k"
   },
   "outputs": [],
   "source": [
    "df_tmp = data.copy()\n",
    "df_tmp = df_tmp[df_tmp.budget > df_tmp.budget.mean()]\n",
    "df_tmp['cast'] = df_tmp.cast.str.split('|')\n",
    "df_tmp = df_tmp.explode('cast')\n",
    "data_gr = df_tmp.groupby(by='cast')['imdb_id'].nunique()\n",
    "actor = data_gr.loc[data_gr == data_gr.max()].index[0]\n",
    "answers['16'] = actor"
   ]
  },
  {
   "cell_type": "markdown",
   "metadata": {
    "colab_type": "text",
    "id": "NIh6AaW5Vp_n"
   },
   "source": [
    "# 17. В фильмах какого жанра больше всего снимался Nicolas Cage? "
   ]
  },
  {
   "cell_type": "code",
   "execution_count": 24,
   "metadata": {
    "colab": {},
    "colab_type": "code",
    "id": "H74SJDIBVp_n"
   },
   "outputs": [],
   "source": [
    "df_tmp = data.copy()\n",
    "df_tmp['cast'] = df_tmp.cast.str.split('|')\n",
    "df_tmp = df_tmp.explode('cast')\n",
    "df_tmp = df_tmp[df_tmp.cast == 'Nicolas Cage']\n",
    "df_tmp['genres'] = df_tmp.genres.str.split('|')\n",
    "df_tmp = df_tmp.explode('genres')\n",
    "data_gr = df_tmp.groupby(by='genres')['imdb_id'].nunique()\n",
    "genres = data_gr.loc[data_gr == data_gr.max()].index[0]\n",
    "answers['17'] = actor"
   ]
  },
  {
   "cell_type": "markdown",
   "metadata": {
    "colab_type": "text",
    "id": "RqOmPRfWVp_q"
   },
   "source": [
    "# 18. Самый убыточный фильм от Paramount Pictures"
   ]
  },
  {
   "cell_type": "code",
   "execution_count": 25,
   "metadata": {
    "colab": {},
    "colab_type": "code",
    "id": "9E_B0Y96Vp_r"
   },
   "outputs": [],
   "source": [
    "df_tmp = data.copy()\n",
    "df_tmp['production_companies'] = df_tmp.production_companies.str.split('|')\n",
    "df_tmp = df_tmp.explode('production_companies')\n",
    "data_filtered = df_tmp[df_tmp.production_companies == 'Paramount Pictures']\n",
    "data_filtered = data_filtered[data_filtered.profit == data_filtered.profit.min()]\n",
    "movie_paramount_min_profit = data_filtered.original_title.values[0] + ' (' + data_filtered.imdb_id.values[0] + ')'\n",
    "answers['18'] = movie_paramount_min_profit"
   ]
  },
  {
   "cell_type": "markdown",
   "metadata": {
    "colab_type": "text",
    "id": "vS8Ur6ddVp_u"
   },
   "source": [
    "# 19. Какой год стал самым успешным по суммарным кассовым сборам?"
   ]
  },
  {
   "cell_type": "code",
   "execution_count": 26,
   "metadata": {
    "colab": {},
    "colab_type": "code",
    "id": "Dnbt4GdIVp_v"
   },
   "outputs": [],
   "source": [
    "data_gr = data.groupby(by='release_year').revenue.sum()\n",
    "year = data_gr.loc[data_gr == data_gr.max()].index[0]\n",
    "answers['19'] = year"
   ]
  },
  {
   "cell_type": "markdown",
   "metadata": {
    "colab_type": "text",
    "id": "JAzJh4QAVp_z"
   },
   "source": [
    "# 20. Какой самый прибыльный год для студии Warner Bros?"
   ]
  },
  {
   "cell_type": "code",
   "execution_count": 27,
   "metadata": {
    "colab": {},
    "colab_type": "code",
    "id": "wgVu02DEVp_0"
   },
   "outputs": [],
   "source": [
    "df_tmp = data.copy()\n",
    "data_filtered = df_tmp[df_tmp.production_companies.str.contains('Warner Bros')]\n",
    "data_gr = data_filtered.groupby(by='release_year').profit.sum()\n",
    "year = data_gr.loc[data_gr == data_gr.max()].index[0]\n",
    "answers['20'] = year"
   ]
  },
  {
   "cell_type": "markdown",
   "metadata": {
    "colab_type": "text",
    "id": "8Im1S2HRVp_4"
   },
   "source": [
    "# 21. В каком месяце за все годы суммарно вышло больше всего фильмов?"
   ]
  },
  {
   "cell_type": "code",
   "execution_count": 28,
   "metadata": {
    "colab": {},
    "colab_type": "code",
    "id": "lev6TH7gVp_4"
   },
   "outputs": [],
   "source": [
    "data_gr = data.groupby(by='month')['imdb_id'].nunique()\n",
    "month_movies_max_qty = month_dict[data_gr.loc[data_gr == data_gr.max()].index[0]]\n",
    "answers['21'] = month_movies_max_qty"
   ]
  },
  {
   "cell_type": "markdown",
   "metadata": {
    "colab_type": "text",
    "id": "uAJsZ_NeVp_7"
   },
   "source": [
    "# 22. Сколько суммарно вышло фильмов летом? (за июнь, июль, август)"
   ]
  },
  {
   "cell_type": "code",
   "execution_count": 29,
   "metadata": {
    "colab": {},
    "colab_type": "code",
    "id": "Aa-hEREoVp_8"
   },
   "outputs": [],
   "source": [
    "data_filtered = data[data.season == 'Summer']\n",
    "summer_movies_qty = data_filtered.imdb_id.nunique()\n",
    "answers['22'] = summer_movies_qty"
   ]
  },
  {
   "cell_type": "markdown",
   "metadata": {
    "colab_type": "text",
    "id": "G94ppOY1VqAA"
   },
   "source": [
    "# 23. Для какого режиссера зима – самое продуктивное время года? "
   ]
  },
  {
   "cell_type": "code",
   "execution_count": 30,
   "metadata": {
    "colab": {},
    "colab_type": "code",
    "id": "RhNTsamuVqAB"
   },
   "outputs": [],
   "source": [
    "df_tmp = data.copy()\n",
    "df_tmp = df_tmp[data.season == 'Winter']\n",
    "df_tmp['director'] = df_tmp.director.str.split('|')\n",
    "df_tmp = df_tmp.explode('director')\n",
    "data_gr = df_tmp.groupby(by='director')['imdb_id'].nunique()\n",
    "director = data_gr.loc[data_gr == data_gr.max()].index[0]\n",
    "answers['23'] = director "
   ]
  },
  {
   "cell_type": "markdown",
   "metadata": {
    "colab_type": "text",
    "id": "RBo0JVjVVqAF"
   },
   "source": [
    "# 24. Какая студия дает самые длинные названия своим фильмам по количеству символов?"
   ]
  },
  {
   "cell_type": "code",
   "execution_count": 31,
   "metadata": {
    "colab": {},
    "colab_type": "code",
    "id": "QRGS8L0iVqAG"
   },
   "outputs": [],
   "source": [
    "df_tmp = data.copy()\n",
    "#df_tmp['production_companies'] = df_tmp.production_companies.str.split('|')\n",
    "#df_tmp = df_tmp.explode('production_companies')\n",
    "df_tmp['title_length'] = df_tmp.original_title.str.len()\n",
    "data_filtered = df_tmp[df_tmp.title_length == df_tmp.title_length.max()]\n",
    "prod_comp = data_filtered.production_companies.values[0]\n",
    "answers['24'] = prod_comp "
   ]
  },
  {
   "cell_type": "markdown",
   "metadata": {
    "colab_type": "text",
    "id": "9G0hbvR7VqAK"
   },
   "source": [
    "# 25. Описание фильмов какой студии в среднем самые длинные по количеству слов?"
   ]
  },
  {
   "cell_type": "code",
   "execution_count": 32,
   "metadata": {
    "colab": {},
    "colab_type": "code",
    "id": "Ge2GsLNxVqAK"
   },
   "outputs": [],
   "source": [
    "df_tmp = data.copy()\n",
    "#df_tmp['production_companies'] = df_tmp.production_companies.str.split('|')\n",
    "#df_tmp = df_tmp.explode('production_companies')\n",
    "df_tmp['overview_word_qty'] = data.overview.apply(lambda s: len(s.split(' ')))#df_tmp.overview.str.split(' ')\n",
    "data_filtered = df_tmp[df_tmp.overview_word_qty == df_tmp.overview_word_qty.max()]\n",
    "prod_comp = data_filtered.production_companies.values[0]\n",
    "answers['25'] = prod_comp "
   ]
  },
  {
   "cell_type": "markdown",
   "metadata": {
    "colab_type": "text",
    "id": "FJ1AFt90VqAP"
   },
   "source": [
    "# 26. Какие фильмы входят в 1 процент лучших по рейтингу? \n",
    "по vote_average"
   ]
  },
  {
   "cell_type": "code",
   "execution_count": 33,
   "metadata": {
    "colab": {},
    "colab_type": "code",
    "id": "8qmJVq4CVqAQ"
   },
   "outputs": [],
   "source": [
    "df_tmp = data.copy()\n",
    "df_tmp['vote_average_qty'] = df_tmp.vote_average.apply(lambda x: df_tmp[df_tmp.vote_average == x].imdb_id.nunique())\n",
    "df_tmp['vote_percent'] = df_tmp['vote_average_qty'] / df_tmp.imdb_id.nunique() * 100\n",
    "# не соображу что дальше "
   ]
  },
  {
   "cell_type": "markdown",
   "metadata": {
    "colab_type": "text",
    "id": "MdXsUXbCVqAV"
   },
   "source": [
    "# 27. Какие актеры чаще всего снимаются в одном фильме вместе?\n"
   ]
  },
  {
   "cell_type": "markdown",
   "metadata": {
    "colab_type": "text",
    "id": "4ymnxEVoVqAW"
   },
   "source": [
    "ВАРИАНТ 2"
   ]
  },
  {
   "cell_type": "markdown",
   "metadata": {
    "colab_type": "text",
    "id": "U0nONFnGVqAX"
   },
   "source": [
    "# Submission"
   ]
  },
  {
   "cell_type": "code",
   "execution_count": 34,
   "metadata": {
    "colab": {},
    "colab_type": "code",
    "id": "IfcaRO9-VqAX",
    "outputId": "0f132912-32bb-4196-c98c-abfbc4ad5a5f"
   },
   "outputs": [
    {
     "data": {
      "text/plain": [
       "{'1': '5. Pirates of the Caribbean: On Stranger Tides (tt1298650)',\n",
       " '2': '2. Gods and Generals (tt0279111)',\n",
       " '3': 'Winnie the Pooh (tt1449283)',\n",
       " '4': 110,\n",
       " '5': 107,\n",
       " '6': 'Avatar (tt0499549)',\n",
       " '7': 'Avatar (tt0499549)',\n",
       " '8': 1478,\n",
       " '9': 'The Dark Knight (tt0468569)',\n",
       " '10': 'The Lone Ranger (tt1210819)',\n",
       " '11': 'Drama',\n",
       " '12': 'Drama',\n",
       " '13': 'Peter Jackson',\n",
       " '14': 'Robert Rodriguez',\n",
       " '15': 'Chris Hemsworth',\n",
       " '16': 'Matt Damon',\n",
       " '17': 'Matt Damon',\n",
       " '18': 'K-19: The Widowmaker (tt0267626)',\n",
       " '19': 2015,\n",
       " '20': 2014,\n",
       " '21': 'Сентябрь',\n",
       " '22': 450,\n",
       " '23': 'Peter Jackson',\n",
       " '24': 'Twentieth Century Fox Film Corporation|Four By Two Productions',\n",
       " '25': 'Lions Gate Films|Lakeshore Entertainment|GreeneStreet Films|Midnight Picture Show'}"
      ]
     },
     "execution_count": 34,
     "metadata": {},
     "output_type": "execute_result"
    }
   ],
   "source": [
    "# в конце можно посмотреть свои ответы к каждому вопросу\n",
    "\n",
    "answers"
   ]
  },
  {
   "cell_type": "code",
   "execution_count": 35,
   "metadata": {
    "colab": {},
    "colab_type": "code",
    "id": "SiRmHPl8VqAd"
   },
   "outputs": [
    {
     "data": {
      "text/plain": [
       "25"
      ]
     },
     "execution_count": 35,
     "metadata": {},
     "output_type": "execute_result"
    }
   ],
   "source": [
    "# и убедиться что ни чего не пропустил)\n",
    "len(answers)"
   ]
  },
  {
   "cell_type": "code",
   "execution_count": null,
   "metadata": {
    "colab": {},
    "colab_type": "code",
    "id": "uCfuTkRbVqAg"
   },
   "outputs": [],
   "source": []
  },
  {
   "cell_type": "code",
   "execution_count": null,
   "metadata": {
    "colab": {},
    "colab_type": "code",
    "id": "Vwx3NrkSVqAl"
   },
   "outputs": [],
   "source": []
  }
 ],
 "metadata": {
  "colab": {
   "name": "Copy of [SF-DST] Movies IMBD v4.1 TEMPLATE.ipynb",
   "provenance": []
  },
  "kernelspec": {
   "display_name": "Python 3",
   "language": "python",
   "name": "python3"
  },
  "language_info": {
   "codemirror_mode": {
    "name": "ipython",
    "version": 3
   },
   "file_extension": ".py",
   "mimetype": "text/x-python",
   "name": "python",
   "nbconvert_exporter": "python",
   "pygments_lexer": "ipython3",
   "version": "3.8.8"
  }
 },
 "nbformat": 4,
 "nbformat_minor": 1
}
